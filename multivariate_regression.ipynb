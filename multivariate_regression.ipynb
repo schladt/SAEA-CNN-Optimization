{
 "cells": [
  {
   "attachments": {},
   "cell_type": "markdown",
   "metadata": {},
   "source": [
    "### Imports"
   ]
  },
  {
   "cell_type": "code",
   "execution_count": 9,
   "metadata": {},
   "outputs": [],
   "source": [
    "import numpy as np\n",
    "from msvr.model.MSVR import MSVR # https://github.com/Analytics-for-Forecasting/msvr\n",
    "from sklearn.model_selection import train_test_split\n",
    "from sklearn.preprocessing import StandardScaler\n",
    "from sklearn.ensemble import RandomForestRegressor\n",
    "\n",
    "from es import *"
   ]
  },
  {
   "attachments": {},
   "cell_type": "markdown",
   "metadata": {},
   "source": [
    "### Get Data"
   ]
  },
  {
   "cell_type": "code",
   "execution_count": 10,
   "metadata": {},
   "outputs": [],
   "source": [
    "# get curated population from saved file\n",
    "with open('curated_training_population.pkl', 'rb') as f:\n",
    "    population = pickle.load(f)\n",
    "\n",
    "# get random population from saved file\n",
    "with open('random_training_population.pkl', 'rb') as f:\n",
    "    population2 = pickle.load(f)\n",
    "\n",
    "population = population + population2\n",
    "\n",
    "# get data from population\n",
    "X = np.array([genome.x for genome in population])\n",
    "y = np.array([[genome.valid_acc, genome.loss_target_fitness] for genome in population])\n",
    "\n",
    "# split the data into training and testing sets for validation accuracy\n",
    "X_train, X_test, y_train, y_test = train_test_split(X, y, test_size = 0.2, random_state = 42)"
   ]
  },
  {
   "cell_type": "code",
   "execution_count": 11,
   "metadata": {},
   "outputs": [],
   "source": [
    "# Standardize data\n",
    "scaler = StandardScaler()\n",
    "X_train = scaler.fit_transform(X_train)\n",
    "X_test = scaler.transform(X_test)"
   ]
  },
  {
   "attachments": {},
   "cell_type": "markdown",
   "metadata": {},
   "source": [
    "### Train and Predict MSVR"
   ]
  },
  {
   "cell_type": "code",
   "execution_count": 12,
   "metadata": {},
   "outputs": [
    {
     "name": "stdout",
     "output_type": "stream",
     "text": [
      "MSVR (RBF): Mean Absolute Error: 14.04 %.\n"
     ]
    }
   ],
   "source": [
    "# fit the MSVR model\n",
    "msvr_rbf = MSVR(kernel = 'rbf', C=100)\n",
    "\n",
    "# fit the model\n",
    "msvr_rbf.fit(X_train, y_train)\n",
    "\n",
    "# make predictions\n",
    "y_pred = msvr_rbf.predict(X_test)\n",
    "\n",
    "# get the mean absolute error\n",
    "mae = np.mean(abs(y_pred - y_test))\n",
    "\n",
    "# print the mean absolute error\n",
    "print('MSVR (RBF): Mean Absolute Error:', round(mae, 2), '%.')\n"
   ]
  },
  {
   "cell_type": "code",
   "execution_count": 13,
   "metadata": {},
   "outputs": [
    {
     "name": "stdout",
     "output_type": "stream",
     "text": [
      "MSVR (RBF): Mean Absolute Error: 11.11 %.\n"
     ]
    }
   ],
   "source": [
    "# fit the MSVR model\n",
    "msvr_laplace = MSVR(kernel = 'laplacian', C=100)\n",
    "\n",
    "# fit the model\n",
    "msvr_laplace.fit(X_train, y_train)\n",
    "\n",
    "# make predictions\n",
    "y_pred = msvr_laplace.predict(X_test)\n",
    "\n",
    "# get the mean absolute error\n",
    "mae = np.mean(abs(y_pred - y_test))\n",
    "\n",
    "# print the mean absolute error\n",
    "print('MSVR (RBF): Mean Absolute Error:', round(mae, 2), '%.')"
   ]
  },
  {
   "attachments": {},
   "cell_type": "markdown",
   "metadata": {},
   "source": [
    "### Train and Predict with Random Forest Regressor"
   ]
  },
  {
   "cell_type": "code",
   "execution_count": 14,
   "metadata": {},
   "outputs": [
    {
     "name": "stdout",
     "output_type": "stream",
     "text": [
      "Random Forest Regressor: Mean Absolute Error: 11.97 %.\n"
     ]
    }
   ],
   "source": [
    "rfr = RandomForestRegressor(n_estimators=100, max_depth=10, random_state=42)\n",
    "rfr.fit(X_train, y_train)\n",
    "\n",
    "# make predictions\n",
    "y_pred = rfr.predict(X_test)\n",
    "\n",
    "# get the mean absolute error\n",
    "mae = np.mean(abs(y_pred - y_test))\n",
    "\n",
    "# print the mean absolute error\n",
    "print('Random Forest Regressor: Mean Absolute Error:', round(mae, 2), '%.')\n"
   ]
  },
  {
   "attachments": {},
   "cell_type": "markdown",
   "metadata": {},
   "source": [
    "### Train and Predict with Voting Regressor"
   ]
  },
  {
   "cell_type": "code",
   "execution_count": 15,
   "metadata": {},
   "outputs": [
    {
     "name": "stdout",
     "output_type": "stream",
     "text": [
      "Voting Regressor: Mean Absolute Error: 10.82 %.\n"
     ]
    }
   ],
   "source": [
    "# make predictions with each model\n",
    "y_pred1 = msvr_rbf.predict(X_test)\n",
    "y_pred2 = msvr_laplace.predict(X_test)\n",
    "y_pred3 = rfr.predict(X_test)\n",
    "\n",
    "# get the average of each prediction\n",
    "y_pred = (y_pred1 + y_pred2 + y_pred3) / 3\n",
    "\n",
    "# limit the predictions to the range of 0 to 100\n",
    "y_pred = np.clip(y_pred, 0, 100)\n",
    "\n",
    "# get the mean absolute error\n",
    "mae = np.mean(abs(y_pred - y_test))\n",
    "\n",
    "# print the mean absolute error\n",
    "print('Voting Regressor: Mean Absolute Error:', round(mae, 2), '%.')\n",
    "\n"
   ]
  }
 ],
 "metadata": {
  "kernelspec": {
   "display_name": "main",
   "language": "python",
   "name": "python3"
  },
  "language_info": {
   "codemirror_mode": {
    "name": "ipython",
    "version": 3
   },
   "file_extension": ".py",
   "mimetype": "text/x-python",
   "name": "python",
   "nbconvert_exporter": "python",
   "pygments_lexer": "ipython3",
   "version": "3.11.1"
  },
  "orig_nbformat": 4
 },
 "nbformat": 4,
 "nbformat_minor": 2
}

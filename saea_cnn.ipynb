{
 "cells": [
  {
   "attachments": {},
   "cell_type": "markdown",
   "metadata": {},
   "source": [
    "## Surrogate Assisted Evolutionary Algorithms for CNN Hyperparameter Optimization"
   ]
  },
  {
   "attachments": {},
   "cell_type": "markdown",
   "metadata": {},
   "source": [
    "### Imports"
   ]
  },
  {
   "cell_type": "code",
   "execution_count": 1,
   "metadata": {},
   "outputs": [],
   "source": [
    "from util import AlexNet, SmallCNN, get_loaders, train_model\n",
    "\n",
    "import numpy as np\n",
    "import matplotlib.pyplot as plt\n",
    "from copy import deepcopy\n",
    "from concurrent.futures import ProcessPoolExecutor\n",
    "from tqdm import tqdm\n",
    "import pickle\n",
    "import os\n",
    "import torch"
   ]
  },
  {
   "attachments": {},
   "cell_type": "markdown",
   "metadata": {},
   "source": [
    "### CNN Hyperparameters"
   ]
  },
  {
   "cell_type": "code",
   "execution_count": null,
   "metadata": {},
   "outputs": [],
   "source": [
    "# CNN Hyperparameters\n",
    "DATA_DIR = '~/data'\n",
    "DATASET = 'cifar'\n",
    "BATCH_SIZE = 128\n",
    "NUM_CLASSES = 10\n",
    "NUM_EPOCHS = 10\n",
    "VALIDATION_TARGET = 100 # target validation accuracy\n",
    "TRAIN_CONCURRENT = 5 # number of models to train concurrently\n",
    "DEVICE = torch.device('cuda' if torch.cuda.is_available() else 'cpu')"
   ]
  },
  {
   "attachments": {},
   "cell_type": "markdown",
   "metadata": {},
   "source": [
    "### Load data"
   ]
  },
  {
   "cell_type": "code",
   "execution_count": null,
   "metadata": {},
   "outputs": [],
   "source": [
    "# Get dataloaders\n",
    "train_loader, valid_loader = get_loaders(data_dir=DATA_DIR, dataset=DATASET, batch_size=BATCH_SIZE, download=False)\n",
    "model = SmallCNN().to(DEVICE)\n",
    "\n",
    "# SGD optimizer - momentum, weight decay are the hyperparameters we are optimizing\n",
    "optimizer = torch.optim.SGD(model.parameters(), lr=0.01, momentum=0.9, weight_decay=0.0005)"
   ]
  },
  {
   "cell_type": "code",
   "execution_count": null,
   "metadata": {},
   "outputs": [],
   "source": [
    "# Train model\n",
    "log_dict = train_model(model=model, \n",
    "                num_epochs=NUM_EPOCHS, \n",
    "                optimizer=optimizer, \n",
    "                device=DEVICE, \n",
    "                train_loader=train_loader, \n",
    "                valid_loader=valid_loader,\n",
    "                valid_target=VALIDATION_TARGET,\n",
    "                print_=True)\n",
    "\n",
    "# Calculate fitness as a function of validation accuracy and number of batches trained\n",
    "valid_acc = log_dict['valid_acc_per_epoch'][-1]\n",
    "train_acc = log_dict['train_acc_per_epoch'][-1]\n",
    "num_epochs_trained = log_dict['num_epochs_trained']"
   ]
  },
  {
   "cell_type": "code",
   "execution_count": null,
   "metadata": {},
   "outputs": [],
   "source": [
    "# plot training curves\n",
    "plt.plot(log_dict['train_acc_per_epoch'], label='train_acc_per_epoch')\n",
    "plt.plot(log_dict['valid_acc_per_epoch'], label='valid_acc_per_epoch')\n",
    "plt.legend()\n",
    "plt.show()\n",
    "\n",
    "\n",
    "# create running average of loss per batch\n",
    "avg_loss = []\n",
    "for i in range(len(log_dict['train_loss_per_batch'])):\n",
    "    avg_loss.append(np.mean(log_dict['train_loss_per_batch'][i-100:i+100]))\n",
    "\n",
    "# plot loss per batch\n",
    "plt.plot(log_dict['train_loss_per_batch'], label='train_loss_per_batch')\n",
    "plt.plot(avg_loss, label='running_avg')\n",
    "plt.legend()\n",
    "plt.show()"
   ]
  },
  {
   "cell_type": "code",
   "execution_count": null,
   "metadata": {},
   "outputs": [],
   "source": [
    "loss_threshold = .5\n",
    "\n",
    "# number of batches trained\n",
    "print('Number of batches trained: {}'.format(len(log_dict['train_loss_per_batch'])))\n",
    "\n",
    "# find batch where training loss is less than loss_threshold\n",
    "for i, acc in enumerate(log_dict['train_loss_per_batch']):\n",
    "    if acc < loss_threshold :\n",
    "        break\n",
    "\n",
    "tt_score = (1 - ((i+1) / len(log_dict['train_loss_per_batch'])))*100\n",
    "print('Training loss first falls below {} at batch {}'.format(loss_threshold, tt_score))"
   ]
  },
  {
   "cell_type": "code",
   "execution_count": 2,
   "metadata": {},
   "outputs": [
    {
     "name": "stderr",
     "output_type": "stream",
     "text": [
      "100%|██████████| 100/100 [1:17:13<00:00, 46.33s/it]\n"
     ]
    }
   ],
   "source": [
    "from es import *\n",
    "\n",
    "# Initialize population creation\n",
    "population = [Genome() for _ in range(100)]\n",
    "\n",
    "# Update fitnesses using multiprocessing   \n",
    "x_values = [genome.x for genome in population]\n",
    "with ProcessPoolExecutor(TRAIN_CONCURRENT) as executor:\n",
    "    results = list(tqdm(executor.map(fitness, population), total=len(population)))\n"
   ]
  },
  {
   "cell_type": "code",
   "execution_count": 3,
   "metadata": {},
   "outputs": [],
   "source": [
    "for i in range(len(population)):\n",
    "    population[i].valid_acc = results[i][0]\n",
    "    population[i].train_acc = results[i][1]\n",
    "    population[i].train_loss = results[i][2]\n",
    "    population[i].loss_target_fitness = results[i][3]\n"
   ]
  },
  {
   "cell_type": "code",
   "execution_count": 4,
   "metadata": {},
   "outputs": [
    {
     "name": "stdout",
     "output_type": "stream",
     "text": [
      "Mean population validation accuracy: 31.11579918861389\n",
      "Mean population training accuracy: 32.075359191894535\n",
      "Mean population training loss: 1.4122305783629416\n",
      "Mean population loss target fitness: 27.82199488491048\n",
      "Max population validation accuracy: 62.94999694824219\n",
      "Max population training accuracy: 72.35199737548828\n",
      "Max population training loss: 2.327260732650757\n",
      "Max population loss target fitness: 91.71355498721228\n"
     ]
    }
   ],
   "source": [
    "# mean population validation accuracy\n",
    "mean_valid_acc = np.mean([genome.valid_acc for genome in population])\n",
    "print('Mean population validation accuracy: {}'.format(mean_valid_acc))\n",
    "\n",
    "# mean population training accuracy\n",
    "mean_train_acc = np.mean([genome.train_acc for genome in population])\n",
    "print('Mean population training accuracy: {}'.format(mean_train_acc))\n",
    "\n",
    "# mean population training loss\n",
    "mean_train_loss = np.mean([genome.train_loss for genome in population])\n",
    "print('Mean population training loss: {}'.format(mean_train_loss))\n",
    "\n",
    "# mean population loss target fitness\n",
    "mean_loss_target_fitness = np.mean([genome.loss_target_fitness for genome in population])\n",
    "print('Mean population loss target fitness: {}'.format(mean_loss_target_fitness))\n",
    "\n",
    "# max population validation accuracy\n",
    "max_valid_acc = np.max([genome.valid_acc for genome in population])\n",
    "print('Max population validation accuracy: {}'.format(max_valid_acc))\n",
    "\n",
    "# max population training accuracy\n",
    "max_train_acc = np.max([genome.train_acc for genome in population])\n",
    "print('Max population training accuracy: {}'.format(max_train_acc))\n",
    "\n",
    "# max population training loss\n",
    "max_train_loss = np.max([genome.train_loss for genome in population])\n",
    "print('Max population training loss: {}'.format(max_train_loss))\n",
    "\n",
    "# max population loss target fitness\n",
    "max_loss_target_fitness = np.max([genome.loss_target_fitness for genome in population])\n",
    "print('Max population loss target fitness: {}'.format(max_loss_target_fitness))\n"
   ]
  },
  {
   "cell_type": "code",
   "execution_count": 5,
   "metadata": {},
   "outputs": [
    {
     "data": {
      "image/png": "[encoded data removed]",
      "text/plain": [
       "<Figure size 640x480 with 1 Axes>"
      ]
     },
     "metadata": {},
     "output_type": "display_data"
    }
   ],
   "source": [
    "# plot validation accuracy vs loss target fitness\n",
    "\n",
    "plt.scatter([genome.valid_acc for genome in population], [genome.loss_target_fitness for genome in population])\n",
    "plt.xlabel('Validation Accuracy')\n",
    "plt.ylabel('Loss Target Fitness')\n",
    "plt.show()\n"
   ]
  },
  {
   "cell_type": "code",
   "execution_count": 6,
   "metadata": {},
   "outputs": [
    {
     "name": "stdout",
     "output_type": "stream",
     "text": [
      "Pareto: 4 optimal values, 4 objects\n"
     ]
    }
   ],
   "source": [
    "import oapackage\n",
    "\n",
    "pareto=oapackage.ParetoDoubleLong()\n",
    "\n",
    "for ii in range(0, len(population)):\n",
    "    w=oapackage.doubleVector( (population[ii].valid_acc, population[ii].loss_target_fitness))\n",
    "    pareto.addvalue(w, ii)\n",
    "\n",
    "pareto.show(verbose=1)\n"
   ]
  },
  {
   "cell_type": "code",
   "execution_count": 8,
   "metadata": {},
   "outputs": [],
   "source": [
    "# save results to pickle file\n",
    "with open('training_population.pkl', 'wb') as f:\n",
    "    pickle.dump(population, f)\n"
   ]
  },
  {
   "cell_type": "code",
   "execution_count": 9,
   "metadata": {},
   "outputs": [],
   "source": [
    "# open results from pickle file\n",
    "with open('training_population.pkl', 'rb') as f:\n",
    "    training_population = pickle.load(f)\n"
   ]
  }
 ],
 "metadata": {
  "kernelspec": {
   "display_name": "main",
   "language": "python",
   "name": "python3"
  },
  "language_info": {
   "codemirror_mode": {
    "name": "ipython",
    "version": 3
   },
   "file_extension": ".py",
   "mimetype": "text/x-python",
   "name": "python",
   "nbconvert_exporter": "python",
   "pygments_lexer": "ipython3",
   "version": "3.11.1"
  },
  "orig_nbformat": 4
 },
 "nbformat": 4,
 "nbformat_minor": 2
}

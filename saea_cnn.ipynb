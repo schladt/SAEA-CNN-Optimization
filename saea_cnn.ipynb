{
 "cells": [
  {
   "attachments": {},
   "cell_type": "markdown",
   "metadata": {},
   "source": [
    "## Surrogate Assisted Evolutionary Algorithms for CNN Hyperparameter Optimization"
   ]
  },
  {
   "attachments": {},
   "cell_type": "markdown",
   "metadata": {},
   "source": [
    "### Imports"
   ]
  },
  {
   "cell_type": "code",
   "execution_count": 1,
   "metadata": {},
   "outputs": [],
   "source": [
    "from util import AlexNet, SmallCNN, get_loaders, train_model\n",
    "from es import *\n",
    "import oapackage\n",
    "\n",
    "import numpy as np\n",
    "import matplotlib.pyplot as plt\n",
    "from copy import deepcopy\n",
    "from concurrent.futures import ProcessPoolExecutor\n",
    "from tqdm import tqdm\n",
    "import pickle\n",
    "import os\n",
    "import torch"
   ]
  },
  {
   "attachments": {},
   "cell_type": "markdown",
   "metadata": {},
   "source": [
    "### CNN Hyperparameters"
   ]
  },
  {
   "cell_type": "code",
   "execution_count": 2,
   "metadata": {},
   "outputs": [],
   "source": [
    "# CNN Hyperparameters\n",
    "DATA_DIR = '~/data'\n",
    "DATASET = 'cifar'\n",
    "BATCH_SIZE = 128\n",
    "NUM_CLASSES = 10\n",
    "NUM_EPOCHS = 10\n",
    "VALIDATION_TARGET = 100 # target validation accuracy\n",
    "TRAIN_CONCURRENT = 5 # number of models to train concurrently\n",
    "DEVICE = torch.device('cuda' if torch.cuda.is_available() else 'cpu')"
   ]
  },
  {
   "attachments": {},
   "cell_type": "markdown",
   "metadata": {},
   "source": [
    "Create a curated training population using hyperparameters close to default and recommended values"
   ]
  },
  {
   "cell_type": "code",
   "execution_count": 3,
   "metadata": {},
   "outputs": [],
   "source": [
    "# check if saved file exists\n",
    "if os.path.exists('curated_training_population.pkl'):\n",
    "    with open('curated_training_population.pkl', 'rb') as f:\n",
    "        training_population1 = pickle.load(f)\n",
    "else:\n",
    "\n",
    "    # Curated hyperparameters\n",
    "    lrs = [0.01, 0.001, 0.0001]\n",
    "    momentums = [0.9, 0.99, 0]\n",
    "    weight_decays = [0.0005, 0.0001, 0]\n",
    "\n",
    "    # Create a list of hyperparameter combinations\n",
    "    hyperparams = []\n",
    "    for lr in lrs:\n",
    "        for momentum in momentums:\n",
    "            for weight_decay in weight_decays:\n",
    "                hyperparams.append((lr, momentum, weight_decay))\n",
    "\n",
    "    # create training population from hyperparams\n",
    "    training_population1 = [Genome(x=hyperparam) for hyperparam in hyperparams]\n",
    "\n",
    "    # Update fitnesses using multiprocessing   \n",
    "    x_values = [genome.x for genome in training_population1]\n",
    "    with ProcessPoolExecutor(TRAIN_CONCURRENT) as executor:\n",
    "        results = list(tqdm(executor.map(fitness, training_population1), total=len(training_population1)))\n",
    "\n",
    "    for i in range(len(training_population1)):\n",
    "        training_population1[i].valid_acc = results[i][0]\n",
    "        training_population1[i].train_acc = results[i][1]\n",
    "        training_population1[i].train_loss = results[i][2]\n",
    "        training_population1[i].loss_target_fitness = results[i][3]\n",
    "\n",
    "    # save the population to a file\n",
    "    with open('curated_training_population.pkl', 'wb') as f:\n",
    "        pickle.dump(training_population1, f)"
   ]
  },
  {
   "attachments": {},
   "cell_type": "markdown",
   "metadata": {},
   "source": [
    "Create a random training population using uniform distributions for each hyperparameter (via default Genome constructor)"
   ]
  },
  {
   "cell_type": "code",
   "execution_count": 4,
   "metadata": {},
   "outputs": [],
   "source": [
    "# check if saved file exists\n",
    "if os.path.exists('random_training_population.pkl'):\n",
    "    with open('random_training_population.pkl', 'rb') as f:\n",
    "        training_population2 = pickle.load(f)\n",
    "else:\n",
    "    \n",
    "    # Initialize population creation\n",
    "    training_population2 = [Genome() for _ in range(100)]\n",
    "\n",
    "    # Update fitnesses using multiprocessing   \n",
    "    x_values = [genome.x for genome in training_population2]\n",
    "    with ProcessPoolExecutor(TRAIN_CONCURRENT) as executor:\n",
    "        results = list(tqdm(executor.map(fitness, training_population2), total=len(training_population2)))\n",
    "\n",
    "    # update the population with the results\n",
    "    for i in range(len(training_population2)):\n",
    "        training_population2[i].valid_acc = results[i][0]\n",
    "        training_population2[i].train_acc = results[i][1]\n",
    "        training_population2[i].train_loss = results[i][2]\n",
    "        training_population2[i].loss_target_fitness = results[i][3]\n",
    "\n",
    "    # save the population to a file\n",
    "    with open('random_training_population.pkl', 'wb') as f:\n",
    "        pickle.dump(training_population2, f)\n"
   ]
  },
  {
   "attachments": {},
   "cell_type": "markdown",
   "metadata": {},
   "source": [
    "Combine population and create visualizations"
   ]
  },
  {
   "cell_type": "code",
   "execution_count": 5,
   "metadata": {},
   "outputs": [],
   "source": [
    "# combine the two populations\n",
    "population = training_population1 + training_population2"
   ]
  },
  {
   "cell_type": "code",
   "execution_count": 6,
   "metadata": {},
   "outputs": [
    {
     "name": "stdout",
     "output_type": "stream",
     "text": [
      "Mean population validation accuracy: 37.30055016795481\n",
      "Mean population training accuracy: 39.59373134703148\n",
      "Mean population training loss: 1.3150466028160936\n",
      "Mean population loss target fitness: 32.9878969732364\n",
      "Max population validation accuracy: 73.66999816894531\n",
      "Max population training accuracy: 88.12999725341797\n",
      "Max population training loss: 2.327260732650757\n",
      "Max population loss target fitness: 91.71355498721228\n"
     ]
    }
   ],
   "source": [
    "# mean population validation accuracy\n",
    "mean_valid_acc = np.mean([genome.valid_acc for genome in population])\n",
    "print('Mean population validation accuracy: {}'.format(mean_valid_acc))\n",
    "\n",
    "# mean population training accuracy\n",
    "mean_train_acc = np.mean([genome.train_acc for genome in population])\n",
    "print('Mean population training accuracy: {}'.format(mean_train_acc))\n",
    "\n",
    "# mean population training loss\n",
    "mean_train_loss = np.mean([genome.train_loss for genome in population])\n",
    "print('Mean population training loss: {}'.format(mean_train_loss))\n",
    "\n",
    "# mean population loss target fitness\n",
    "mean_loss_target_fitness = np.mean([genome.loss_target_fitness for genome in population])\n",
    "print('Mean population loss target fitness: {}'.format(mean_loss_target_fitness))\n",
    "\n",
    "# max population validation accuracy\n",
    "max_valid_acc = np.max([genome.valid_acc for genome in population])\n",
    "print('Max population validation accuracy: {}'.format(max_valid_acc))\n",
    "\n",
    "# max population training accuracy\n",
    "max_train_acc = np.max([genome.train_acc for genome in population])\n",
    "print('Max population training accuracy: {}'.format(max_train_acc))\n",
    "\n",
    "# max population training loss\n",
    "max_train_loss = np.max([genome.train_loss for genome in population])\n",
    "print('Max population training loss: {}'.format(max_train_loss))\n",
    "\n",
    "# max population loss target fitness\n",
    "max_loss_target_fitness = np.max([genome.loss_target_fitness for genome in population])\n",
    "print('Max population loss target fitness: {}'.format(max_loss_target_fitness))\n"
   ]
  },
  {
   "attachments": {},
   "cell_type": "markdown",
   "metadata": {},
   "source": [
    "Find and visualize the pareto front"
   ]
  },
  {
   "cell_type": "code",
   "execution_count": 7,
   "metadata": {},
   "outputs": [
    {
     "name": "stdout",
     "output_type": "stream",
     "text": [
      "Pareto: 4 optimal values, 4 objects\n"
     ]
    },
    {
     "data": {
      "image/png": "[encoded data removed]",
      "text/plain": [
       "<Figure size 640x480 with 1 Axes>"
      ]
     },
     "metadata": {},
     "output_type": "display_data"
    }
   ],
   "source": [
    "# find the pareto front\n",
    "pareto=oapackage.ParetoDoubleLong()\n",
    "\n",
    "for ii in range(0, len(population)):\n",
    "    w=oapackage.doubleVector( (population[ii].valid_acc, population[ii].loss_target_fitness))\n",
    "    pareto.addvalue(w, ii)\n",
    "\n",
    "# show the pareto front size \n",
    "pareto.show(verbose=1)\n",
    "\n",
    "# show the pareto front visualization\n",
    "pareto_front = [population[i] for i in pareto.allindices()]\n",
    "h=plt.plot([genome.valid_acc for genome in population], [genome.loss_target_fitness for genome in population], '.b', markersize=16, label='Non Pareto-optimal')\n",
    "h=plt.plot([genome.valid_acc for genome in pareto_front], [genome.loss_target_fitness for genome in pareto_front], '.r', markersize=16, label='Pareto-optimal')\n",
    "plt.xlabel('Validation Accuracy', fontsize=16)\n",
    "plt.ylabel('Loss Target Fitness', fontsize=16)\n",
    "plt.xticks([])\n",
    "plt.yticks([])\n",
    "_=plt.legend(loc=3, numpoints=1)"
   ]
  }
 ],
 "metadata": {
  "kernelspec": {
   "display_name": "main",
   "language": "python",
   "name": "python3"
  },
  "language_info": {
   "codemirror_mode": {
    "name": "ipython",
    "version": 3
   },
   "file_extension": ".py",
   "mimetype": "text/x-python",
   "name": "python",
   "nbconvert_exporter": "python",
   "pygments_lexer": "ipython3",
   "version": "3.11.1"
  },
  "orig_nbformat": 4
 },
 "nbformat": 4,
 "nbformat_minor": 2
}
